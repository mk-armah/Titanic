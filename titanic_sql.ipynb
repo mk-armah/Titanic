{
    "metadata": {
        "kernelspec": {
            "name": "SQL",
            "display_name": "SQL",
            "language": "sql"
        },
        "language_info": {
            "name": "sql",
            "version": ""
        }
    },
    "nbformat_minor": 2,
    "nbformat": 4,
    "cells": [
        {
            "cell_type": "markdown",
            "source": [
                "**DATA INGESTION**"
            ],
            "metadata": {
                "language": "",
                "azdata_cell_guid": "8a221eb9-20ca-4c4e-9de8-9d9df62e2a28",
                "tags": []
            },
            "attachments": {}
        },
        {
            "cell_type": "code",
            "source": [
                "CREATE TABLE DEMO.dbo.Titanic(\r\n",
                "\tPassengerId INT IDENTITY(1,1) primary key,\r\n",
                "\tSurvived INT,\r\n",
                "\tPclass INT,\r\n",
                "\tName NVARCHAR(200),\r\n",
                "\tSex NVARCHAR(10),\r\n",
                "\tAge FLOAT,\r\n",
                "\tSibSp INT,\r\n",
                "\tParch INT,\r\n",
                "\tTicket NVARCHAR(50),\r\n",
                "\tFare FLOAT,\r\n",
                "\tCabin NVARCHAR(50),\r\n",
                "\tEmbarked NVARCHAR(50))\r\n",
                "GO"
            ],
            "metadata": {
                "azdata_cell_guid": "56a09740-3f05-440d-9c78-9ae3be2d00d2",
                "language": "sql",
                "tags": []
            },
            "outputs": [],
            "execution_count": null
        },
        {
            "cell_type": "code",
            "source": [
                "ALTER TABLE DEMO.dbo.Titanic\r\n",
                "\r\n",
                "\r\n",
                "/*Training Dataset*/\r\n",
                "\r\n",
                "BULK INSERT DEMO.dbo.Titanic\r\n",
                "FROM '.\\titanic_dataset\\train.csv'\r\n",
                "WITH\r\n",
                "(\r\n",
                "        FORMAT='CSV',\r\n",
                "        FIRSTROW=2\r\n",
                ")\r\n",
                "GO"
            ],
            "metadata": {
                "azdata_cell_guid": "167cb091-8eae-41af-91fb-333d4dba936f",
                "language": "sql"
            },
            "outputs": [],
            "execution_count": null
        },
        {
            "cell_type": "code",
            "source": [
                "USE [DEMO]"
            ],
            "metadata": {
                "azdata_cell_guid": "191b9e72-8b73-4a2f-ac32-643405a9725e",
                "language": "sql"
            },
            "outputs": [
                {
                    "output_type": "display_data",
                    "data": {
                        "text/html": "Commands completed successfully."
                    },
                    "metadata": {}
                },
                {
                    "output_type": "display_data",
                    "data": {
                        "text/html": "Total execution time: 00:00:00"
                    },
                    "metadata": {}
                }
            ],
            "execution_count": 28
        },
        {
            "cell_type": "code",
            "source": [
                "-- view TOP 20 of the data\r\n",
                "SELECT TOP(20) * FROM Titanic "
            ],
            "metadata": {
                "azdata_cell_guid": "71e5f7ba-9c1f-4d8f-8785-c70f677ea02b",
                "language": "sql"
            },
            "outputs": [
                {
                    "output_type": "display_data",
                    "data": {
                        "text/html": "(20 rows affected)"
                    },
                    "metadata": {}
                },
                {
                    "output_type": "display_data",
                    "data": {
                        "text/html": "Total execution time: 00:00:00.018"
                    },
                    "metadata": {}
                },
                {
                    "output_type": "execute_result",
                    "execution_count": 17,
                    "data": {
                        "application/vnd.dataresource+json": {
                            "schema": {
                                "fields": [
                                    {
                                        "name": "PassengerId"
                                    },
                                    {
                                        "name": "Survived"
                                    },
                                    {
                                        "name": "Pclass"
                                    },
                                    {
                                        "name": "Name"
                                    },
                                    {
                                        "name": "Sex"
                                    },
                                    {
                                        "name": "Age"
                                    },
                                    {
                                        "name": "SibSp"
                                    },
                                    {
                                        "name": "Parch"
                                    },
                                    {
                                        "name": "Ticket"
                                    },
                                    {
                                        "name": "Fare"
                                    },
                                    {
                                        "name": "Cabin"
                                    },
                                    {
                                        "name": "Embarked"
                                    }
                                ]
                            },
                            "data": [
                                {
                                    "0": "1",
                                    "1": "0",
                                    "2": "3",
                                    "3": "Braund, Mr. Owen Harris",
                                    "4": "male",
                                    "5": "22",
                                    "6": "1",
                                    "7": "0",
                                    "8": "A/5 21171",
                                    "9": "7.25",
                                    "10": "NULL",
                                    "11": "S"
                                },
                                {
                                    "0": "2",
                                    "1": "1",
                                    "2": "1",
                                    "3": "Cumings, Mrs. John Bradley (Florence Briggs Thayer)",
                                    "4": "female",
                                    "5": "38",
                                    "6": "1",
                                    "7": "0",
                                    "8": "PC 17599",
                                    "9": "71.2833",
                                    "10": "C85",
                                    "11": "C"
                                },
                                {
                                    "0": "3",
                                    "1": "1",
                                    "2": "3",
                                    "3": "Heikkinen, Miss. Laina",
                                    "4": "female",
                                    "5": "26",
                                    "6": "0",
                                    "7": "0",
                                    "8": "STON/O2. 3101282",
                                    "9": "7.925",
                                    "10": "NULL",
                                    "11": "S"
                                },
                                {
                                    "0": "4",
                                    "1": "1",
                                    "2": "1",
                                    "3": "Futrelle, Mrs. Jacques Heath (Lily May Peel)",
                                    "4": "female",
                                    "5": "35",
                                    "6": "1",
                                    "7": "0",
                                    "8": "113803",
                                    "9": "53.1",
                                    "10": "C123",
                                    "11": "S"
                                },
                                {
                                    "0": "5",
                                    "1": "0",
                                    "2": "3",
                                    "3": "Allen, Mr. William Henry",
                                    "4": "male",
                                    "5": "35",
                                    "6": "0",
                                    "7": "0",
                                    "8": "373450",
                                    "9": "8.05",
                                    "10": "NULL",
                                    "11": "S"
                                },
                                {
                                    "0": "6",
                                    "1": "0",
                                    "2": "3",
                                    "3": "Moran, Mr. James",
                                    "4": "male",
                                    "5": "NULL",
                                    "6": "0",
                                    "7": "0",
                                    "8": "330877",
                                    "9": "8.4583",
                                    "10": "NULL",
                                    "11": "Q"
                                },
                                {
                                    "0": "7",
                                    "1": "0",
                                    "2": "1",
                                    "3": "McCarthy, Mr. Timothy J",
                                    "4": "male",
                                    "5": "54",
                                    "6": "0",
                                    "7": "0",
                                    "8": "17463",
                                    "9": "51.8625",
                                    "10": "E46",
                                    "11": "S"
                                },
                                {
                                    "0": "8",
                                    "1": "0",
                                    "2": "3",
                                    "3": "Palsson, Master. Gosta Leonard",
                                    "4": "male",
                                    "5": "2",
                                    "6": "3",
                                    "7": "1",
                                    "8": "349909",
                                    "9": "21.075",
                                    "10": "NULL",
                                    "11": "S"
                                },
                                {
                                    "0": "9",
                                    "1": "1",
                                    "2": "3",
                                    "3": "Johnson, Mrs. Oscar W (Elisabeth Vilhelmina Berg)",
                                    "4": "female",
                                    "5": "27",
                                    "6": "0",
                                    "7": "2",
                                    "8": "347742",
                                    "9": "11.1333",
                                    "10": "NULL",
                                    "11": "S"
                                },
                                {
                                    "0": "10",
                                    "1": "1",
                                    "2": "2",
                                    "3": "Nasser, Mrs. Nicholas (Adele Achem)",
                                    "4": "female",
                                    "5": "14",
                                    "6": "1",
                                    "7": "0",
                                    "8": "237736",
                                    "9": "30.0708",
                                    "10": "NULL",
                                    "11": "C"
                                },
                                {
                                    "0": "11",
                                    "1": "1",
                                    "2": "3",
                                    "3": "Sandstrom, Miss. Marguerite Rut",
                                    "4": "female",
                                    "5": "4",
                                    "6": "1",
                                    "7": "1",
                                    "8": "PP 9549",
                                    "9": "16.7",
                                    "10": "G6",
                                    "11": "S"
                                },
                                {
                                    "0": "12",
                                    "1": "1",
                                    "2": "1",
                                    "3": "Bonnell, Miss. Elizabeth",
                                    "4": "female",
                                    "5": "58",
                                    "6": "0",
                                    "7": "0",
                                    "8": "113783",
                                    "9": "26.55",
                                    "10": "C103",
                                    "11": "S"
                                },
                                {
                                    "0": "13",
                                    "1": "0",
                                    "2": "3",
                                    "3": "Saundercock, Mr. William Henry",
                                    "4": "male",
                                    "5": "20",
                                    "6": "0",
                                    "7": "0",
                                    "8": "A/5. 2151",
                                    "9": "8.05",
                                    "10": "NULL",
                                    "11": "S"
                                },
                                {
                                    "0": "14",
                                    "1": "0",
                                    "2": "3",
                                    "3": "Andersson, Mr. Anders Johan",
                                    "4": "male",
                                    "5": "39",
                                    "6": "1",
                                    "7": "5",
                                    "8": "347082",
                                    "9": "31.275",
                                    "10": "NULL",
                                    "11": "S"
                                },
                                {
                                    "0": "15",
                                    "1": "0",
                                    "2": "3",
                                    "3": "Vestrom, Miss. Hulda Amanda Adolfina",
                                    "4": "female",
                                    "5": "14",
                                    "6": "0",
                                    "7": "0",
                                    "8": "350406",
                                    "9": "7.8542",
                                    "10": "NULL",
                                    "11": "S"
                                },
                                {
                                    "0": "16",
                                    "1": "1",
                                    "2": "2",
                                    "3": "Hewlett, Mrs. (Mary D Kingcome) ",
                                    "4": "female",
                                    "5": "55",
                                    "6": "0",
                                    "7": "0",
                                    "8": "248706",
                                    "9": "16",
                                    "10": "NULL",
                                    "11": "S"
                                },
                                {
                                    "0": "17",
                                    "1": "0",
                                    "2": "3",
                                    "3": "Rice, Master. Eugene",
                                    "4": "male",
                                    "5": "2",
                                    "6": "4",
                                    "7": "1",
                                    "8": "382652",
                                    "9": "29.125",
                                    "10": "NULL",
                                    "11": "Q"
                                },
                                {
                                    "0": "18",
                                    "1": "1",
                                    "2": "2",
                                    "3": "Williams, Mr. Charles Eugene",
                                    "4": "male",
                                    "5": "NULL",
                                    "6": "0",
                                    "7": "0",
                                    "8": "244373",
                                    "9": "13",
                                    "10": "NULL",
                                    "11": "S"
                                },
                                {
                                    "0": "19",
                                    "1": "0",
                                    "2": "3",
                                    "3": "Vander Planke, Mrs. Julius (Emelia Maria Vandemoortele)",
                                    "4": "female",
                                    "5": "31",
                                    "6": "1",
                                    "7": "0",
                                    "8": "345763",
                                    "9": "18",
                                    "10": "NULL",
                                    "11": "S"
                                },
                                {
                                    "0": "20",
                                    "1": "1",
                                    "2": "3",
                                    "3": "Masselmani, Mrs. Fatima",
                                    "4": "female",
                                    "5": "NULL",
                                    "6": "0",
                                    "7": "0",
                                    "8": "2649",
                                    "9": "7.225",
                                    "10": "NULL",
                                    "11": "C"
                                }
                            ]
                        },
                        "text/html": "<table><tr><th>PassengerId</th><th>Survived</th><th>Pclass</th><th>Name</th><th>Sex</th><th>Age</th><th>SibSp</th><th>Parch</th><th>Ticket</th><th>Fare</th><th>Cabin</th><th>Embarked</th></tr><tr><td>1</td><td>0</td><td>3</td><td>Braund, Mr. Owen Harris</td><td>male</td><td>22</td><td>1</td><td>0</td><td>A/5 21171</td><td>7.25</td><td>NULL</td><td>S</td></tr><tr><td>2</td><td>1</td><td>1</td><td>Cumings, Mrs. John Bradley (Florence Briggs Thayer)</td><td>female</td><td>38</td><td>1</td><td>0</td><td>PC 17599</td><td>71.2833</td><td>C85</td><td>C</td></tr><tr><td>3</td><td>1</td><td>3</td><td>Heikkinen, Miss. Laina</td><td>female</td><td>26</td><td>0</td><td>0</td><td>STON/O2. 3101282</td><td>7.925</td><td>NULL</td><td>S</td></tr><tr><td>4</td><td>1</td><td>1</td><td>Futrelle, Mrs. Jacques Heath (Lily May Peel)</td><td>female</td><td>35</td><td>1</td><td>0</td><td>113803</td><td>53.1</td><td>C123</td><td>S</td></tr><tr><td>5</td><td>0</td><td>3</td><td>Allen, Mr. William Henry</td><td>male</td><td>35</td><td>0</td><td>0</td><td>373450</td><td>8.05</td><td>NULL</td><td>S</td></tr><tr><td>6</td><td>0</td><td>3</td><td>Moran, Mr. James</td><td>male</td><td>NULL</td><td>0</td><td>0</td><td>330877</td><td>8.4583</td><td>NULL</td><td>Q</td></tr><tr><td>7</td><td>0</td><td>1</td><td>McCarthy, Mr. Timothy J</td><td>male</td><td>54</td><td>0</td><td>0</td><td>17463</td><td>51.8625</td><td>E46</td><td>S</td></tr><tr><td>8</td><td>0</td><td>3</td><td>Palsson, Master. Gosta Leonard</td><td>male</td><td>2</td><td>3</td><td>1</td><td>349909</td><td>21.075</td><td>NULL</td><td>S</td></tr><tr><td>9</td><td>1</td><td>3</td><td>Johnson, Mrs. Oscar W (Elisabeth Vilhelmina Berg)</td><td>female</td><td>27</td><td>0</td><td>2</td><td>347742</td><td>11.1333</td><td>NULL</td><td>S</td></tr><tr><td>10</td><td>1</td><td>2</td><td>Nasser, Mrs. Nicholas (Adele Achem)</td><td>female</td><td>14</td><td>1</td><td>0</td><td>237736</td><td>30.0708</td><td>NULL</td><td>C</td></tr><tr><td>11</td><td>1</td><td>3</td><td>Sandstrom, Miss. Marguerite Rut</td><td>female</td><td>4</td><td>1</td><td>1</td><td>PP 9549</td><td>16.7</td><td>G6</td><td>S</td></tr><tr><td>12</td><td>1</td><td>1</td><td>Bonnell, Miss. Elizabeth</td><td>female</td><td>58</td><td>0</td><td>0</td><td>113783</td><td>26.55</td><td>C103</td><td>S</td></tr><tr><td>13</td><td>0</td><td>3</td><td>Saundercock, Mr. William Henry</td><td>male</td><td>20</td><td>0</td><td>0</td><td>A/5. 2151</td><td>8.05</td><td>NULL</td><td>S</td></tr><tr><td>14</td><td>0</td><td>3</td><td>Andersson, Mr. Anders Johan</td><td>male</td><td>39</td><td>1</td><td>5</td><td>347082</td><td>31.275</td><td>NULL</td><td>S</td></tr><tr><td>15</td><td>0</td><td>3</td><td>Vestrom, Miss. Hulda Amanda Adolfina</td><td>female</td><td>14</td><td>0</td><td>0</td><td>350406</td><td>7.8542</td><td>NULL</td><td>S</td></tr><tr><td>16</td><td>1</td><td>2</td><td>Hewlett, Mrs. (Mary D Kingcome) </td><td>female</td><td>55</td><td>0</td><td>0</td><td>248706</td><td>16</td><td>NULL</td><td>S</td></tr><tr><td>17</td><td>0</td><td>3</td><td>Rice, Master. Eugene</td><td>male</td><td>2</td><td>4</td><td>1</td><td>382652</td><td>29.125</td><td>NULL</td><td>Q</td></tr><tr><td>18</td><td>1</td><td>2</td><td>Williams, Mr. Charles Eugene</td><td>male</td><td>NULL</td><td>0</td><td>0</td><td>244373</td><td>13</td><td>NULL</td><td>S</td></tr><tr><td>19</td><td>0</td><td>3</td><td>Vander Planke, Mrs. Julius (Emelia Maria Vandemoortele)</td><td>female</td><td>31</td><td>1</td><td>0</td><td>345763</td><td>18</td><td>NULL</td><td>S</td></tr><tr><td>20</td><td>1</td><td>3</td><td>Masselmani, Mrs. Fatima</td><td>female</td><td>NULL</td><td>0</td><td>0</td><td>2649</td><td>7.225</td><td>NULL</td><td>C</td></tr></table>"
                    },
                    "metadata": {}
                }
            ],
            "execution_count": 17
        },
        {
            "cell_type": "code",
            "source": [
                "-- How many samples are present in the training data\r\n",
                "SELECT\r\n",
                "COUNT(*)\r\n",
                "    total_num_of_samples\r\n",
                "FROM \r\n",
                "    Titanic ;"
            ],
            "metadata": {
                "azdata_cell_guid": "656e7708-c20a-489f-9195-44562d6f7bb2",
                "language": "sql"
            },
            "outputs": [
                {
                    "output_type": "display_data",
                    "data": {
                        "text/html": "(1 row affected)"
                    },
                    "metadata": {}
                },
                {
                    "output_type": "display_data",
                    "data": {
                        "text/html": "Total execution time: 00:00:00.007"
                    },
                    "metadata": {}
                },
                {
                    "output_type": "execute_result",
                    "execution_count": 21,
                    "data": {
                        "application/vnd.dataresource+json": {
                            "schema": {
                                "fields": [
                                    {
                                        "name": "total_num_of_samples"
                                    }
                                ]
                            },
                            "data": [
                                {
                                    "0": "891"
                                }
                            ]
                        },
                        "text/html": "<table><tr><th>total_num_of_samples</th></tr><tr><td>891</td></tr></table>"
                    },
                    "metadata": {}
                }
            ],
            "execution_count": 21
        },
        {
            "cell_type": "code",
            "source": [
                "-- check for null values in the target column\r\n",
                "\r\n",
                "SELECT \r\n",
                "    COUNT(*)\r\n",
                "FROM\r\n",
                "    Titanic\r\n",
                "WHERE\r\n",
                "Survived IS NULL"
            ],
            "metadata": {
                "language": "sql",
                "azdata_cell_guid": "fa4f483c-00c1-426d-b82a-567ed359196e",
                "tags": []
            },
            "outputs": [
                {
                    "output_type": "display_data",
                    "data": {
                        "text/html": "(1 row affected)"
                    },
                    "metadata": {}
                },
                {
                    "output_type": "display_data",
                    "data": {
                        "text/html": "Total execution time: 00:00:00.115"
                    },
                    "metadata": {}
                },
                {
                    "output_type": "execute_result",
                    "execution_count": 41,
                    "data": {
                        "application/vnd.dataresource+json": {
                            "schema": {
                                "fields": [
                                    {
                                        "name": "(No column name)"
                                    }
                                ]
                            },
                            "data": [
                                {
                                    "0": "0"
                                }
                            ]
                        },
                        "text/html": "<table><tr><th>(No column name)</th></tr><tr><td>0</td></tr></table>"
                    },
                    "metadata": {}
                }
            ],
            "execution_count": 41
        },
        {
            "cell_type": "code",
            "source": [
                "USE [Demo];\r\n",
                "GO\r\n",
                "\r\n",
                "CREATE PROCEDURE CheckNulls\r\n",
                "@column nvarchar(10)\r\n",
                "AS\r\n",
                "SELECT COUNT(*) FROM Titanic WHERE @column IS NULL"
            ],
            "metadata": {
                "azdata_cell_guid": "2583cf43-cff8-4cd0-899c-77e2034ef593",
                "language": "sql"
            },
            "outputs": [
                {
                    "output_type": "display_data",
                    "data": {
                        "text/html": "Commands completed successfully."
                    },
                    "metadata": {}
                },
                {
                    "output_type": "display_data",
                    "data": {
                        "text/html": "Commands completed successfully."
                    },
                    "metadata": {}
                },
                {
                    "output_type": "display_data",
                    "data": {
                        "text/html": "Total execution time: 00:00:00.033"
                    },
                    "metadata": {}
                }
            ],
            "execution_count": 57
        },
        {
            "cell_type": "code",
            "source": [
                "EXEC CheckNulls @column = 'Pclass';"
            ],
            "metadata": {
                "language": "sql",
                "azdata_cell_guid": "98f2e175-dc3e-4be9-bd32-f2f803bb4a42"
            },
            "outputs": [
                {
                    "output_type": "display_data",
                    "data": {
                        "text/html": "(1 row affected)"
                    },
                    "metadata": {}
                },
                {
                    "output_type": "display_data",
                    "data": {
                        "text/html": "Total execution time: 00:00:00.013"
                    },
                    "metadata": {}
                },
                {
                    "output_type": "execute_result",
                    "execution_count": 67,
                    "data": {
                        "application/vnd.dataresource+json": {
                            "schema": {
                                "fields": [
                                    {
                                        "name": "(No column name)"
                                    }
                                ]
                            },
                            "data": [
                                {
                                    "0": "0"
                                }
                            ]
                        },
                        "text/html": "<table><tr><th>(No column name)</th></tr><tr><td>0</td></tr></table>"
                    },
                    "metadata": {}
                }
            ],
            "execution_count": 67
        },
        {
            "cell_type": "code",
            "source": [
                "SELECT TOP(1)\r\n",
                "    (SELECT COUNT(*) FROM Titanic WHERE Pclass IS NULL) Pclass,\r\n",
                "    (SELECT COUNT(*) FROM Titanic WHERE Sex IS NULL) Sex,\r\n",
                "    (SELECT COUNT(*) FROM Titanic WHERE Age IS NULL) Age,\r\n",
                "    (SELECT COUNT(*) FROM Titanic WHERE SibSP IS NULL) SibSP,\r\n",
                "    (SELECT COUNT(*) FROM Titanic WHERE Parch IS NULL) Parch,\r\n",
                "    (SELECT COUNT(*) FROM Titanic WHERE Ticket IS NULL) Ticket,\r\n",
                "    (SELECT COUNT(*) FROM Titanic WHERE Name IS NULL) Name,\r\n",
                "    (SELECT COUNT(*) FROM Titanic WHERE Fare IS NULL) Fare,\r\n",
                "    (SELECT COUNT(*) FROM Titanic WHERE Cabin IS NULL) Cabin,\r\n",
                "    (SELECT COUNT(*) FROM Titanic WHERE Embarked IS NULL) Embarked\r\n",
                "FROM\r\n",
                "    Titanic"
            ],
            "metadata": {
                "language": "sql",
                "azdata_cell_guid": "9c48c14c-3f65-4122-8836-620f4e25756f"
            },
            "outputs": [
                {
                    "output_type": "display_data",
                    "data": {
                        "text/html": "(1 row affected)"
                    },
                    "metadata": {}
                },
                {
                    "output_type": "display_data",
                    "data": {
                        "text/html": "Total execution time: 00:00:00.402"
                    },
                    "metadata": {}
                },
                {
                    "output_type": "execute_result",
                    "execution_count": 39,
                    "data": {
                        "application/vnd.dataresource+json": {
                            "schema": {
                                "fields": [
                                    {
                                        "name": "Pclass"
                                    },
                                    {
                                        "name": "Sex"
                                    },
                                    {
                                        "name": "Age"
                                    },
                                    {
                                        "name": "SibSP"
                                    },
                                    {
                                        "name": "Parch"
                                    },
                                    {
                                        "name": "Ticket"
                                    },
                                    {
                                        "name": "Name"
                                    },
                                    {
                                        "name": "Fare"
                                    },
                                    {
                                        "name": "Cabin"
                                    },
                                    {
                                        "name": "Embarked"
                                    }
                                ]
                            },
                            "data": [
                                {
                                    "0": "0",
                                    "1": "0",
                                    "2": "177",
                                    "3": "0",
                                    "4": "0",
                                    "5": "0",
                                    "6": "0",
                                    "7": "0",
                                    "8": "687",
                                    "9": "2"
                                }
                            ]
                        },
                        "text/html": "<table><tr><th>Pclass</th><th>Sex</th><th>Age</th><th>SibSP</th><th>Parch</th><th>Ticket</th><th>Name</th><th>Fare</th><th>Cabin</th><th>Embarked</th></tr><tr><td>0</td><td>0</td><td>177</td><td>0</td><td>0</td><td>0</td><td>0</td><td>0</td><td>687</td><td>2</td></tr></table>"
                    },
                    "metadata": {}
                }
            ],
            "execution_count": 39
        },
        {
            "cell_type": "code",
            "source": [
                "USE [DEMO]\r\n",
                "SELECT\r\n",
                "    COUNT(*) counts\r\n",
                "FROM\r\n",
                "    TitaNIC\r\n",
                "GROUP BY\r\n",
                "    Survived\r\n",
                "\r\n",
                "--OR, using correlated sub-queries (works well for Azure Data Studio Visualization)\r\n",
                "\r\n",
                "SELECT TOP(1)\r\n",
                "    (SELECT COUNT(*) FROM Titanic WHERE Survived = 0) AS Num_of_recorded_deaths,\r\n",
                "    (SELECT COUNT(*) FROM Titanic WHERE Survived = 1) AS Num_of_survived_passengers\r\n",
                "FROM\r\n",
                "    Titanic"
            ],
            "metadata": {
                "azdata_cell_guid": "b36b41d7-b7f1-45ed-a8c1-67fda5fe7516",
                "language": "sql"
            },
            "outputs": [
                {
                    "output_type": "display_data",
                    "data": {
                        "text/html": "(2 rows affected)"
                    },
                    "metadata": {}
                },
                {
                    "output_type": "display_data",
                    "data": {
                        "text/html": "(1 row affected)"
                    },
                    "metadata": {}
                },
                {
                    "output_type": "display_data",
                    "data": {
                        "text/html": "Total execution time: 00:00:00.019"
                    },
                    "metadata": {}
                },
                {
                    "output_type": "execute_result",
                    "execution_count": 42,
                    "data": {
                        "application/vnd.dataresource+json": {
                            "schema": {
                                "fields": [
                                    {
                                        "name": "counts"
                                    }
                                ]
                            },
                            "data": [
                                {
                                    "0": "549"
                                },
                                {
                                    "0": "342"
                                }
                            ]
                        },
                        "text/html": "<table><tr><th>counts</th></tr><tr><td>549</td></tr><tr><td>342</td></tr></table>"
                    },
                    "metadata": {}
                },
                {
                    "output_type": "execute_result",
                    "execution_count": 42,
                    "data": {
                        "application/vnd.dataresource+json": {
                            "schema": {
                                "fields": [
                                    {
                                        "name": "Num_of_recorded_deaths"
                                    },
                                    {
                                        "name": "Num_of_survived_passengers"
                                    }
                                ]
                            },
                            "data": [
                                {
                                    "0": "549",
                                    "1": "342"
                                }
                            ]
                        },
                        "text/html": "<table><tr><th>Num_of_recorded_deaths</th><th>Num_of_survived_passengers</th></tr><tr><td>549</td><td>342</td></tr></table>"
                    },
                    "metadata": {}
                }
            ],
            "execution_count": 42
        },
        {
            "cell_type": "code",
            "source": [
                "-- summary statistics\r\n",
                "CREATE PROCEDURE describe\r\n",
                "\r\n",
                "AS\r\n",
                "\r\n",
                "SELECT\r\n",
                "    AVG(AGE) avg_age,\r\n",
                "    MAX(Sex) gender_most_frequent,\r\n",
                "    MAX(Pclass) pclass_most_frequent,\r\n",
                "    MAX(Embarked) embarked_most_frequent,\r\n",
                "    MAX(Cabin) cabin_most_frequent\r\n",
                "FROM Titanic;"
            ],
            "metadata": {
                "azdata_cell_guid": "55b196c7-a600-4480-ab13-8811ca224459",
                "language": "sql",
                "tags": []
            },
            "outputs": [
                {
                    "output_type": "display_data",
                    "data": {
                        "text/html": "Commands completed successfully."
                    },
                    "metadata": {}
                },
                {
                    "output_type": "display_data",
                    "data": {
                        "text/html": "Total execution time: 00:00:00.083"
                    },
                    "metadata": {}
                }
            ],
            "execution_count": 109
        },
        {
            "cell_type": "code",
            "source": [
                "SELECT * FROM sys.objects WHERE Object_id = OBJECT_ID('demo.dbo.Titanic')"
            ],
            "metadata": {
                "azdata_cell_guid": "a66b50fa-1e9a-4d28-8dde-44b9d6395996",
                "language": "sql"
            },
            "outputs": [
                {
                    "output_type": "display_data",
                    "data": {
                        "text/html": "(1 row affected)"
                    },
                    "metadata": {}
                },
                {
                    "output_type": "display_data",
                    "data": {
                        "text/html": "Total execution time: 00:00:00.025"
                    },
                    "metadata": {}
                },
                {
                    "output_type": "execute_result",
                    "execution_count": 108,
                    "data": {
                        "application/vnd.dataresource+json": {
                            "schema": {
                                "fields": [
                                    {
                                        "name": "name"
                                    },
                                    {
                                        "name": "object_id"
                                    },
                                    {
                                        "name": "principal_id"
                                    },
                                    {
                                        "name": "schema_id"
                                    },
                                    {
                                        "name": "parent_object_id"
                                    },
                                    {
                                        "name": "type"
                                    },
                                    {
                                        "name": "type_desc"
                                    },
                                    {
                                        "name": "create_date"
                                    },
                                    {
                                        "name": "modify_date"
                                    },
                                    {
                                        "name": "is_ms_shipped"
                                    },
                                    {
                                        "name": "is_published"
                                    },
                                    {
                                        "name": "is_schema_published"
                                    }
                                ]
                            },
                            "data": [
                                {
                                    "0": "Titanic",
                                    "1": "965578478",
                                    "2": "NULL",
                                    "3": "1",
                                    "4": "0",
                                    "5": "U ",
                                    "6": "USER_TABLE",
                                    "7": "2022-10-19 09:34:13.807",
                                    "8": "2022-10-19 09:34:13.807",
                                    "9": "0",
                                    "10": "0",
                                    "11": "0"
                                }
                            ]
                        },
                        "text/html": "<table><tr><th>name</th><th>object_id</th><th>principal_id</th><th>schema_id</th><th>parent_object_id</th><th>type</th><th>type_desc</th><th>create_date</th><th>modify_date</th><th>is_ms_shipped</th><th>is_published</th><th>is_schema_published</th></tr><tr><td>Titanic</td><td>965578478</td><td>NULL</td><td>1</td><td>0</td><td>U </td><td>USER_TABLE</td><td>2022-10-19 09:34:13.807</td><td>2022-10-19 09:34:13.807</td><td>0</td><td>0</td><td>0</td></tr></table>"
                    },
                    "metadata": {}
                }
            ],
            "execution_count": 108
        },
        {
            "cell_type": "code",
            "source": [
                "EXEC describe;"
            ],
            "metadata": {
                "azdata_cell_guid": "4f46045f-c5cb-40bb-8090-26cbaebb04f0",
                "language": "sql"
            },
            "outputs": [
                {
                    "output_type": "display_data",
                    "data": {
                        "text/html": "Warning: Null value is eliminated by an aggregate or other SET operation."
                    },
                    "metadata": {}
                },
                {
                    "output_type": "display_data",
                    "data": {
                        "text/html": "(1 row affected)"
                    },
                    "metadata": {}
                },
                {
                    "output_type": "display_data",
                    "data": {
                        "text/html": "Total execution time: 00:00:00.080"
                    },
                    "metadata": {}
                },
                {
                    "output_type": "execute_result",
                    "execution_count": 111,
                    "data": {
                        "application/vnd.dataresource+json": {
                            "schema": {
                                "fields": [
                                    {
                                        "name": "avg_age"
                                    },
                                    {
                                        "name": "gender_most_frequent"
                                    },
                                    {
                                        "name": "pclass_most_frequent"
                                    },
                                    {
                                        "name": "embarked_most_frequent"
                                    },
                                    {
                                        "name": "cabin_most_frequent"
                                    }
                                ]
                            },
                            "data": [
                                {
                                    "0": "29.69911764705882",
                                    "1": "male",
                                    "2": "3",
                                    "3": "S",
                                    "4": "T"
                                }
                            ]
                        },
                        "text/html": "<table><tr><th>avg_age</th><th>gender_most_frequent</th><th>pclass_most_frequent</th><th>embarked_most_frequent</th><th>cabin_most_frequent</th></tr><tr><td>29.69911764705882</td><td>male</td><td>3</td><td>S</td><td>T</td></tr></table>"
                    },
                    "metadata": {}
                }
            ],
            "execution_count": 111
        },
        {
            "cell_type": "markdown",
            "source": [
                "Report\n",
                "\n",
                "```\n",
                "There are no missing values in the target column (Survived)\n",
                "```\n",
                "```\n",
                "There are a total of 177 and 687 missing values in the Age column and Cabin column respectively.\n",
                "\n",
                "```"
            ],
            "metadata": {
                "azdata_cell_guid": "34afcdea-72d0-43e0-bef7-f168409fbc9c"
            },
            "attachments": {}
        },
        {
            "cell_type": "markdown",
            "source": [
                "**DATA CLEANING**"
            ],
            "metadata": {
                "azdata_cell_guid": "23e17457-9e50-4909-a8f5-9a4fd018995d"
            },
            "attachments": {}
        },
        {
            "cell_type": "code",
            "source": [
                "-- create a temporary #Titanic_temp for data cleaning...\r\n",
                "\r\n",
                "SELECT *\r\n",
                "INTO \r\n",
                "    #Titanic_temp\r\n",
                "FROM\r\n",
                "    Demo.dbo.Titanic"
            ],
            "metadata": {
                "azdata_cell_guid": "46fde5db-88da-4b69-a9fd-31e147fb9fbc",
                "language": "sql"
            },
            "outputs": [
                {
                    "output_type": "display_data",
                    "data": {
                        "text/html": "(891 rows affected)"
                    },
                    "metadata": {}
                },
                {
                    "output_type": "display_data",
                    "data": {
                        "text/html": "Total execution time: 00:00:00.784"
                    },
                    "metadata": {}
                }
            ],
            "execution_count": 6
        },
        {
            "cell_type": "code",
            "source": [
                "CREATE PROCEDURE head\r\n",
                "@n int\r\n",
                "AS\r\n",
                "SELECT TOP(@n) * FROM #Titanic_temp;"
            ],
            "metadata": {
                "language": "sql",
                "azdata_cell_guid": "d9df7e6c-f6b3-4f3c-94c8-d62ac16c7177",
                "tags": []
            },
            "outputs": [
                {
                    "output_type": "display_data",
                    "data": {
                        "text/html": "Commands completed successfully."
                    },
                    "metadata": {}
                },
                {
                    "output_type": "display_data",
                    "data": {
                        "text/html": "Total execution time: 00:00:00.226"
                    },
                    "metadata": {}
                }
            ],
            "execution_count": 8
        },
        {
            "cell_type": "code",
            "source": [
                "EXECUTE head @n = 5;"
            ],
            "metadata": {
                "language": "sql",
                "azdata_cell_guid": "db63c24c-d80d-41c9-a2bd-a1f842a3d6b8"
            },
            "outputs": [
                {
                    "output_type": "display_data",
                    "data": {
                        "text/html": "(5 rows affected)"
                    },
                    "metadata": {}
                },
                {
                    "output_type": "display_data",
                    "data": {
                        "text/html": "Total execution time: 00:00:00.013"
                    },
                    "metadata": {}
                },
                {
                    "output_type": "execute_result",
                    "metadata": {},
                    "execution_count": 9,
                    "data": {
                        "application/vnd.dataresource+json": {
                            "schema": {
                                "fields": [
                                    {
                                        "name": "PassengerId"
                                    },
                                    {
                                        "name": "Survived"
                                    },
                                    {
                                        "name": "Pclass"
                                    },
                                    {
                                        "name": "Name"
                                    },
                                    {
                                        "name": "Sex"
                                    },
                                    {
                                        "name": "Age"
                                    },
                                    {
                                        "name": "SibSp"
                                    },
                                    {
                                        "name": "Parch"
                                    },
                                    {
                                        "name": "Ticket"
                                    },
                                    {
                                        "name": "Fare"
                                    },
                                    {
                                        "name": "Cabin"
                                    },
                                    {
                                        "name": "Embarked"
                                    }
                                ]
                            },
                            "data": [
                                {
                                    "0": "1",
                                    "1": "0",
                                    "2": "3",
                                    "3": "Braund, Mr. Owen Harris",
                                    "4": "male",
                                    "5": "22",
                                    "6": "1",
                                    "7": "0",
                                    "8": "A/5 21171",
                                    "9": "7.25",
                                    "10": "NULL",
                                    "11": "S"
                                },
                                {
                                    "0": "2",
                                    "1": "1",
                                    "2": "1",
                                    "3": "Cumings, Mrs. John Bradley (Florence Briggs Thayer)",
                                    "4": "female",
                                    "5": "38",
                                    "6": "1",
                                    "7": "0",
                                    "8": "PC 17599",
                                    "9": "71.2833",
                                    "10": "C85",
                                    "11": "C"
                                },
                                {
                                    "0": "3",
                                    "1": "1",
                                    "2": "3",
                                    "3": "Heikkinen, Miss. Laina",
                                    "4": "female",
                                    "5": "26",
                                    "6": "0",
                                    "7": "0",
                                    "8": "STON/O2. 3101282",
                                    "9": "7.925",
                                    "10": "NULL",
                                    "11": "S"
                                },
                                {
                                    "0": "4",
                                    "1": "1",
                                    "2": "1",
                                    "3": "Futrelle, Mrs. Jacques Heath (Lily May Peel)",
                                    "4": "female",
                                    "5": "35",
                                    "6": "1",
                                    "7": "0",
                                    "8": "113803",
                                    "9": "53.1",
                                    "10": "C123",
                                    "11": "S"
                                },
                                {
                                    "0": "5",
                                    "1": "0",
                                    "2": "3",
                                    "3": "Allen, Mr. William Henry",
                                    "4": "male",
                                    "5": "35",
                                    "6": "0",
                                    "7": "0",
                                    "8": "373450",
                                    "9": "8.05",
                                    "10": "NULL",
                                    "11": "S"
                                }
                            ]
                        },
                        "text/html": [
                            "<table>",
                            "<tr><th>PassengerId</th><th>Survived</th><th>Pclass</th><th>Name</th><th>Sex</th><th>Age</th><th>SibSp</th><th>Parch</th><th>Ticket</th><th>Fare</th><th>Cabin</th><th>Embarked</th></tr>",
                            "<tr><td>1</td><td>0</td><td>3</td><td>Braund, Mr. Owen Harris</td><td>male</td><td>22</td><td>1</td><td>0</td><td>A/5 21171</td><td>7.25</td><td>NULL</td><td>S</td></tr>",
                            "<tr><td>2</td><td>1</td><td>1</td><td>Cumings, Mrs. John Bradley (Florence Briggs Thayer)</td><td>female</td><td>38</td><td>1</td><td>0</td><td>PC 17599</td><td>71.2833</td><td>C85</td><td>C</td></tr>",
                            "<tr><td>3</td><td>1</td><td>3</td><td>Heikkinen, Miss. Laina</td><td>female</td><td>26</td><td>0</td><td>0</td><td>STON/O2. 3101282</td><td>7.925</td><td>NULL</td><td>S</td></tr>",
                            "<tr><td>4</td><td>1</td><td>1</td><td>Futrelle, Mrs. Jacques Heath (Lily May Peel)</td><td>female</td><td>35</td><td>1</td><td>0</td><td>113803</td><td>53.1</td><td>C123</td><td>S</td></tr>",
                            "<tr><td>5</td><td>0</td><td>3</td><td>Allen, Mr. William Henry</td><td>male</td><td>35</td><td>0</td><td>0</td><td>373450</td><td>8.05</td><td>NULL</td><td>S</td></tr>",
                            "</table>"
                        ]
                    }
                }
            ],
            "execution_count": 9
        },
        {
            "cell_type": "code",
            "source": [
                "--Explore the Percentage of missing values in Age and Cabin and Embarked \r\n",
                "\r\n",
                "Use [Demo];\r\n",
                "\r\n",
                "SELECT TOP(1)\r\n",
                "    (\r\n",
                "        CAST(\r\n",
                "            (SELECT COUNT(*) FROM #Titanic_temp WHERE Cabin is NULL) AS FLOAT)/\r\n",
                "            COUNT(*))*100 as '% missing_cabin',\r\n",
                "    (\r\n",
                "        CAST(\r\n",
                "            (SELECT COUNT(*) FROM #Titanic_temp WHERE Age is NULL) AS FLOAT)/\r\n",
                "            COUNT(*))*100 as '% missing_age',\r\n",
                "\r\n",
                "    (\r\n",
                "        CAST(\r\n",
                "            (SELECT COUNT(*) FROM #Titanic_temp WHERE Embarked is NULL) AS FLOAT)/\r\n",
                "            COUNT(*))*100 as '% missing_embarked'\r\n",
                "\r\n",
                "    FROM #Titanic_temp"
            ],
            "metadata": {
                "azdata_cell_guid": "30a04f6c-616f-4b7a-a29b-bbaca1b57118",
                "language": "sql"
            },
            "outputs": [
                {
                    "output_type": "display_data",
                    "data": {
                        "text/html": "(1 row affected)"
                    },
                    "metadata": {}
                },
                {
                    "output_type": "display_data",
                    "data": {
                        "text/html": "Total execution time: 00:00:00.024"
                    },
                    "metadata": {}
                },
                {
                    "output_type": "execute_result",
                    "metadata": {
                        "azdata_chartOptions": {
                            "type": "bar",
                            "dataDirection": "horizontal",
                            "columnsAsLabels": true,
                            "labelFirstColumn": false,
                            "legendPosition": "top"
                        }
                    },
                    "execution_count": 37,
                    "data": {
                        "application/vnd.dataresource+json": {
                            "schema": {
                                "fields": [
                                    {
                                        "name": "% missing_cabin"
                                    },
                                    {
                                        "name": "% missing_age"
                                    },
                                    {
                                        "name": "% missing_embarked"
                                    }
                                ]
                            },
                            "data": [
                                {
                                    "0": "77.10437710437711",
                                    "1": "19.865319865319865",
                                    "2": "0.22446689113355783"
                                }
                            ]
                        },
                        "text/html": [
                            "<table>",
                            "<tr><th>% missing_cabin</th><th>% missing_age</th><th>% missing_embarked</th></tr>",
                            "<tr><td>77.10437710437711</td><td>19.865319865319865</td><td>0.22446689113355783</td></tr>",
                            "</table>"
                        ]
                    }
                }
            ],
            "execution_count": 37
        },
        {
            "cell_type": "markdown",
            "source": [
                "> Cabin contains 77% of missing values while Age and Embarked contain 19.9% and 0.002244 of missing values respectively"
            ],
            "metadata": {
                "language": "",
                "azdata_cell_guid": "d3b009c3-50a8-4b54-a0a0-c3a297e9f981"
            },
            "attachments": {}
        },
        {
            "cell_type": "markdown",
            "source": [
                "<b\\> Imputation Steps</b>\n",
                " \n",
                "<ul>\n",
                "\n",
                "    <li>Cabin contains too missing values and should be droped to avoid complexity and wrong imputations </li>\n",
                "\n",
                "    <li\\>Fill Null's in Embarked with the modal category </li>\n",
                "    <li\\>Fill Null's in Age with average age of each class in Survived column</li>\n",
                "</ul\\>"
            ],
            "metadata": {
                "azdata_cell_guid": "4065f0bb-432c-49d6-b97f-93fddc5e0b90",
                "language": ""
            },
            "attachments": {}
        },
        {
            "cell_type": "code",
            "source": [
                "IF (\r\n",
                "    SELECT \r\n",
                "    COUNT(*)\r\n",
                "    FROM\r\n",
                "        #Titanic_temp\r\n",
                "    WHERE\r\n",
                "        Embarked IS NULL)\r\n",
                "<> 0\r\n",
                "BEGIN\r\n",
                "    UPDATE #Titanic_temp\r\n",
                "    SET Embarked = (SELECT MAX(Embarked) FROM #Titanic_temp)\r\n",
                "    WHERE Embarked IS NULL\r\n",
                "    PRINT 'Imputing missing values in Embarked column with its mode'\r\n",
                "END\r\n",
                "\r\n",
                "ELSE \r\n",
                "BEGIN\r\n",
                "    PRINT('imputing already done')\r\n",
                "END \r\n",
                ""
            ],
            "metadata": {
                "azdata_cell_guid": "b4e9d4aa-724b-462e-930f-406c19566ffc",
                "language": "sql"
            },
            "outputs": [
                {
                    "output_type": "display_data",
                    "data": {
                        "text/html": "Warning: Null value is eliminated by an aggregate or other SET operation."
                    },
                    "metadata": {}
                },
                {
                    "output_type": "display_data",
                    "data": {
                        "text/html": "(2 rows affected)"
                    },
                    "metadata": {}
                },
                {
                    "output_type": "display_data",
                    "data": {
                        "text/html": "Imputing missing values in Embarked column with its mode"
                    },
                    "metadata": {}
                },
                {
                    "output_type": "display_data",
                    "data": {
                        "text/html": "Total execution time: 00:00:00.159"
                    },
                    "metadata": {}
                }
            ],
            "execution_count": 82
        },
        {
            "cell_type": "code",
            "source": [
                "-- Check operation's success\r\n",
                "SELECT COUNT(*) FROM #Titanic_temp WHERE Embarked IS NULL"
            ],
            "metadata": {
                "azdata_cell_guid": "0b9cfcfc-25ab-40a7-9c59-fafcdec40bdb",
                "language": "sql"
            },
            "outputs": [
                {
                    "output_type": "display_data",
                    "data": {
                        "text/html": "(1 row affected)"
                    },
                    "metadata": {}
                },
                {
                    "output_type": "display_data",
                    "data": {
                        "text/html": "Total execution time: 00:00:00.008"
                    },
                    "metadata": {}
                },
                {
                    "output_type": "execute_result",
                    "metadata": {},
                    "execution_count": 83,
                    "data": {
                        "application/vnd.dataresource+json": {
                            "schema": {
                                "fields": [
                                    {
                                        "name": "(No column name)"
                                    }
                                ]
                            },
                            "data": [
                                {
                                    "0": "0"
                                }
                            ]
                        },
                        "text/html": [
                            "<table>",
                            "<tr><th>(No column name)</th></tr>",
                            "<tr><td>0</td></tr>",
                            "</table>"
                        ]
                    }
                }
            ],
            "execution_count": 83
        },
        {
            "cell_type": "markdown",
            "source": [
                "**EXPLORATORY DATA ANALYSIS**"
            ],
            "metadata": {
                "azdata_cell_guid": "04ebb930-03d5-43cf-bc04-43f7369812bd",
                "language": ""
            },
            "attachments": {}
        },
        {
            "cell_type": "code",
            "source": [
                "-- a closer look at passengers origin\r\n",
                "SELECT\r\n",
                "    Embarked, COUNT(*) counts \r\n",
                "FROM \r\n",
                "    Titanic\r\n",
                "WHERE\r\n",
                "    Embarked is NOT NULL\r\n",
                "GROUP BY\r\n",
                "    Embarked"
            ],
            "metadata": {
                "language": "sql",
                "azdata_cell_guid": "10b7ceb7-22d3-4c7f-a00a-0a1b5f7cfcb1"
            },
            "outputs": [
                {
                    "output_type": "display_data",
                    "data": {
                        "text/html": "(3 rows affected)"
                    },
                    "metadata": {}
                },
                {
                    "output_type": "display_data",
                    "data": {
                        "text/html": "Total execution time: 00:00:00.050"
                    },
                    "metadata": {}
                },
                {
                    "output_type": "execute_result",
                    "execution_count": 19,
                    "data": {
                        "application/vnd.dataresource+json": {
                            "schema": {
                                "fields": [
                                    {
                                        "name": "Embarked"
                                    },
                                    {
                                        "name": "counts"
                                    }
                                ]
                            },
                            "data": [
                                {
                                    "0": "S",
                                    "1": "644"
                                },
                                {
                                    "0": "Q",
                                    "1": "77"
                                },
                                {
                                    "0": "C",
                                    "1": "168"
                                }
                            ]
                        },
                        "text/html": "<table><tr><th>Embarked</th><th>counts</th></tr><tr><td>S</td><td>644</td></tr><tr><td>Q</td><td>77</td></tr><tr><td>C</td><td>168</td></tr></table>"
                    },
                    "metadata": {}
                }
            ],
            "execution_count": 19
        },
        {
            "cell_type": "code",
            "source": [
                "-- a closer look at passengers origin\r\n",
                "SELECT\r\n",
                "    Embarked, COUNT(*) counts \r\n",
                "FROM \r\n",
                "    Titanic\r\n",
                "WHERE\r\n",
                "    Embarked is NOT NULL\r\n",
                "GROUP BY\r\n",
                "    Embarked"
            ],
            "metadata": {
                "azdata_cell_guid": "5a3dac05-29dc-46b9-a1b5-6e6f17b84c32",
                "language": "sql",
                "tags": [
                    "hide_input"
                ]
            },
            "outputs": [
                {
                    "output_type": "display_data",
                    "data": {
                        "text/html": "(3 rows affected)"
                    },
                    "metadata": {}
                },
                {
                    "output_type": "display_data",
                    "data": {
                        "text/html": "Total execution time: 00:00:00.008"
                    },
                    "metadata": {}
                },
                {
                    "output_type": "execute_result",
                    "execution_count": 24,
                    "data": {
                        "application/vnd.dataresource+json": {
                            "schema": {
                                "fields": [
                                    {
                                        "name": "Embarked"
                                    },
                                    {
                                        "name": "counts"
                                    }
                                ]
                            },
                            "data": [
                                {
                                    "0": "S",
                                    "1": "644"
                                },
                                {
                                    "0": "Q",
                                    "1": "77"
                                },
                                {
                                    "0": "C",
                                    "1": "168"
                                }
                            ]
                        },
                        "text/html": "<table><tr><th>Embarked</th><th>counts</th></tr><tr><td>S</td><td>644</td></tr><tr><td>Q</td><td>77</td></tr><tr><td>C</td><td>168</td></tr></table>"
                    },
                    "metadata": {}
                }
            ],
            "execution_count": 24
        },
        {
            "cell_type": "code",
            "source": [
                "SELECT\r\n",
                "    SibSp, COUNT(*) counts \r\n",
                "FROM \r\n",
                "    Titanic\r\n",
                "WHERE\r\n",
                "    SibSP is NOT NULL\r\n",
                "GROUP BY\r\n",
                "    SibSp\r\n",
                "ORDER BY\r\n",
                "    SibSp;"
            ],
            "metadata": {
                "language": "sql",
                "azdata_cell_guid": "394b9677-beb4-472b-b02d-83e29214e2af"
            },
            "outputs": [
                {
                    "output_type": "display_data",
                    "data": {
                        "text/html": "(7 rows affected)"
                    },
                    "metadata": {}
                },
                {
                    "output_type": "display_data",
                    "data": {
                        "text/html": "Total execution time: 00:00:00.018"
                    },
                    "metadata": {}
                },
                {
                    "output_type": "execute_result",
                    "execution_count": 25,
                    "data": {
                        "application/vnd.dataresource+json": {
                            "schema": {
                                "fields": [
                                    {
                                        "name": "SibSp"
                                    },
                                    {
                                        "name": "counts"
                                    }
                                ]
                            },
                            "data": [
                                {
                                    "0": "0",
                                    "1": "608"
                                },
                                {
                                    "0": "1",
                                    "1": "209"
                                },
                                {
                                    "0": "2",
                                    "1": "28"
                                },
                                {
                                    "0": "3",
                                    "1": "16"
                                },
                                {
                                    "0": "4",
                                    "1": "18"
                                },
                                {
                                    "0": "5",
                                    "1": "5"
                                },
                                {
                                    "0": "8",
                                    "1": "7"
                                }
                            ]
                        },
                        "text/html": "<table><tr><th>SibSp</th><th>counts</th></tr><tr><td>0</td><td>608</td></tr><tr><td>1</td><td>209</td></tr><tr><td>2</td><td>28</td></tr><tr><td>3</td><td>16</td></tr><tr><td>4</td><td>18</td></tr><tr><td>5</td><td>5</td></tr><tr><td>8</td><td>7</td></tr></table>"
                    },
                    "metadata": {}
                }
            ],
            "execution_count": 25
        },
        {
            "cell_type": "code",
            "source": [
                "SELECT\r\n",
                "    Parch, COUNT(*) counts \r\n",
                "FROM \r\n",
                "    Titanic\r\n",
                "WHERE\r\n",
                "    Parch is NOT NULL\r\n",
                "GROUP BY\r\n",
                "    Parch\r\n",
                "ORDER BY\r\n",
                "    Parch;"
            ],
            "metadata": {
                "azdata_cell_guid": "646ca3c4-1c40-4efa-b136-01ee0b538747",
                "language": "sql"
            },
            "outputs": [
                {
                    "output_type": "display_data",
                    "data": {
                        "text/html": "(7 rows affected)"
                    },
                    "metadata": {}
                },
                {
                    "output_type": "display_data",
                    "data": {
                        "text/html": "Total execution time: 00:00:00.019"
                    },
                    "metadata": {}
                },
                {
                    "output_type": "execute_result",
                    "execution_count": 26,
                    "data": {
                        "application/vnd.dataresource+json": {
                            "schema": {
                                "fields": [
                                    {
                                        "name": "Parch"
                                    },
                                    {
                                        "name": "counts"
                                    }
                                ]
                            },
                            "data": [
                                {
                                    "0": "0",
                                    "1": "678"
                                },
                                {
                                    "0": "1",
                                    "1": "118"
                                },
                                {
                                    "0": "2",
                                    "1": "80"
                                },
                                {
                                    "0": "3",
                                    "1": "5"
                                },
                                {
                                    "0": "4",
                                    "1": "4"
                                },
                                {
                                    "0": "5",
                                    "1": "5"
                                },
                                {
                                    "0": "6",
                                    "1": "1"
                                }
                            ]
                        },
                        "text/html": "<table><tr><th>Parch</th><th>counts</th></tr><tr><td>0</td><td>678</td></tr><tr><td>1</td><td>118</td></tr><tr><td>2</td><td>80</td></tr><tr><td>3</td><td>5</td></tr><tr><td>4</td><td>4</td></tr><tr><td>5</td><td>5</td></tr><tr><td>6</td><td>1</td></tr></table>"
                    },
                    "metadata": {}
                }
            ],
            "execution_count": 26
        },
        {
            "cell_type": "code",
            "source": [
                "SELECT TOP(10) * FROM [Demo].dbo.Titanic"
            ],
            "metadata": {
                "language": "sql",
                "azdata_cell_guid": "d73feea8-1080-4bff-affb-1efe29068c07"
            },
            "outputs": [
                {
                    "output_type": "display_data",
                    "data": {
                        "text/html": "(10 rows affected)"
                    },
                    "metadata": {}
                },
                {
                    "output_type": "display_data",
                    "data": {
                        "text/html": "Total execution time: 00:00:00.213"
                    },
                    "metadata": {}
                },
                {
                    "output_type": "execute_result",
                    "execution_count": 5,
                    "data": {
                        "application/vnd.dataresource+json": {
                            "schema": {
                                "fields": [
                                    {
                                        "name": "PassengerId"
                                    },
                                    {
                                        "name": "Survived"
                                    },
                                    {
                                        "name": "Pclass"
                                    },
                                    {
                                        "name": "Name"
                                    },
                                    {
                                        "name": "Sex"
                                    },
                                    {
                                        "name": "Age"
                                    },
                                    {
                                        "name": "SibSp"
                                    },
                                    {
                                        "name": "Parch"
                                    },
                                    {
                                        "name": "Ticket"
                                    },
                                    {
                                        "name": "Fare"
                                    },
                                    {
                                        "name": "Cabin"
                                    },
                                    {
                                        "name": "Embarked"
                                    }
                                ]
                            },
                            "data": [
                                {
                                    "0": "7",
                                    "1": "0",
                                    "2": "1",
                                    "3": "McCarthy, Mr. Timothy J",
                                    "4": "male",
                                    "5": "54",
                                    "6": "0",
                                    "7": "0",
                                    "8": "17463",
                                    "9": "51.8625",
                                    "10": "E46",
                                    "11": "S"
                                },
                                {
                                    "0": "8",
                                    "1": "0",
                                    "2": "3",
                                    "3": "Palsson, Master. Gosta Leonard",
                                    "4": "male",
                                    "5": "2",
                                    "6": "3",
                                    "7": "1",
                                    "8": "349909",
                                    "9": "21.075",
                                    "10": "NULL",
                                    "11": "S"
                                },
                                {
                                    "0": "9",
                                    "1": "1",
                                    "2": "3",
                                    "3": "Johnson, Mrs. Oscar W (Elisabeth Vilhelmina Berg)",
                                    "4": "female",
                                    "5": "27",
                                    "6": "0",
                                    "7": "2",
                                    "8": "347742",
                                    "9": "11.1333",
                                    "10": "NULL",
                                    "11": "S"
                                },
                                {
                                    "0": "10",
                                    "1": "1",
                                    "2": "2",
                                    "3": "Nasser, Mrs. Nicholas (Adele Achem)",
                                    "4": "female",
                                    "5": "14",
                                    "6": "1",
                                    "7": "0",
                                    "8": "237736",
                                    "9": "30.0708",
                                    "10": "NULL",
                                    "11": "C"
                                },
                                {
                                    "0": "1",
                                    "1": "0",
                                    "2": "3",
                                    "3": "Braund, Mr. Owen Harris",
                                    "4": "male",
                                    "5": "22",
                                    "6": "1",
                                    "7": "0",
                                    "8": "A/5 21171",
                                    "9": "7.25",
                                    "10": "NULL",
                                    "11": "S"
                                },
                                {
                                    "0": "2",
                                    "1": "1",
                                    "2": "1",
                                    "3": "Cumings, Mrs. John Bradley (Florence Briggs Thayer)",
                                    "4": "female",
                                    "5": "38",
                                    "6": "1",
                                    "7": "0",
                                    "8": "PC 17599",
                                    "9": "71.2833",
                                    "10": "C85",
                                    "11": "C"
                                },
                                {
                                    "0": "3",
                                    "1": "1",
                                    "2": "3",
                                    "3": "Heikkinen, Miss. Laina",
                                    "4": "female",
                                    "5": "26",
                                    "6": "0",
                                    "7": "0",
                                    "8": "STON/O2. 3101282",
                                    "9": "7.925",
                                    "10": "NULL",
                                    "11": "S"
                                },
                                {
                                    "0": "4",
                                    "1": "1",
                                    "2": "1",
                                    "3": "Futrelle, Mrs. Jacques Heath (Lily May Peel)",
                                    "4": "female",
                                    "5": "35",
                                    "6": "1",
                                    "7": "0",
                                    "8": "113803",
                                    "9": "53.1",
                                    "10": "C123",
                                    "11": "S"
                                },
                                {
                                    "0": "5",
                                    "1": "0",
                                    "2": "3",
                                    "3": "Allen, Mr. William Henry",
                                    "4": "male",
                                    "5": "35",
                                    "6": "0",
                                    "7": "0",
                                    "8": "373450",
                                    "9": "8.05",
                                    "10": "NULL",
                                    "11": "S"
                                },
                                {
                                    "0": "6",
                                    "1": "0",
                                    "2": "3",
                                    "3": "Moran, Mr. James",
                                    "4": "male",
                                    "5": "NULL",
                                    "6": "0",
                                    "7": "0",
                                    "8": "330877",
                                    "9": "8.4583",
                                    "10": "NULL",
                                    "11": "Q"
                                }
                            ]
                        },
                        "text/html": "<table><tr><th>PassengerId</th><th>Survived</th><th>Pclass</th><th>Name</th><th>Sex</th><th>Age</th><th>SibSp</th><th>Parch</th><th>Ticket</th><th>Fare</th><th>Cabin</th><th>Embarked</th></tr><tr><td>7</td><td>0</td><td>1</td><td>McCarthy, Mr. Timothy J</td><td>male</td><td>54</td><td>0</td><td>0</td><td>17463</td><td>51.8625</td><td>E46</td><td>S</td></tr><tr><td>8</td><td>0</td><td>3</td><td>Palsson, Master. Gosta Leonard</td><td>male</td><td>2</td><td>3</td><td>1</td><td>349909</td><td>21.075</td><td>NULL</td><td>S</td></tr><tr><td>9</td><td>1</td><td>3</td><td>Johnson, Mrs. Oscar W (Elisabeth Vilhelmina Berg)</td><td>female</td><td>27</td><td>0</td><td>2</td><td>347742</td><td>11.1333</td><td>NULL</td><td>S</td></tr><tr><td>10</td><td>1</td><td>2</td><td>Nasser, Mrs. Nicholas (Adele Achem)</td><td>female</td><td>14</td><td>1</td><td>0</td><td>237736</td><td>30.0708</td><td>NULL</td><td>C</td></tr><tr><td>1</td><td>0</td><td>3</td><td>Braund, Mr. Owen Harris</td><td>male</td><td>22</td><td>1</td><td>0</td><td>A/5 21171</td><td>7.25</td><td>NULL</td><td>S</td></tr><tr><td>2</td><td>1</td><td>1</td><td>Cumings, Mrs. John Bradley (Florence Briggs Thayer)</td><td>female</td><td>38</td><td>1</td><td>0</td><td>PC 17599</td><td>71.2833</td><td>C85</td><td>C</td></tr><tr><td>3</td><td>1</td><td>3</td><td>Heikkinen, Miss. Laina</td><td>female</td><td>26</td><td>0</td><td>0</td><td>STON/O2. 3101282</td><td>7.925</td><td>NULL</td><td>S</td></tr><tr><td>4</td><td>1</td><td>1</td><td>Futrelle, Mrs. Jacques Heath (Lily May Peel)</td><td>female</td><td>35</td><td>1</td><td>0</td><td>113803</td><td>53.1</td><td>C123</td><td>S</td></tr><tr><td>5</td><td>0</td><td>3</td><td>Allen, Mr. William Henry</td><td>male</td><td>35</td><td>0</td><td>0</td><td>373450</td><td>8.05</td><td>NULL</td><td>S</td></tr><tr><td>6</td><td>0</td><td>3</td><td>Moran, Mr. James</td><td>male</td><td>NULL</td><td>0</td><td>0</td><td>330877</td><td>8.4583</td><td>NULL</td><td>Q</td></tr></table>"
                    },
                    "metadata": {}
                }
            ],
            "execution_count": 5
        },
        {
            "cell_type": "code",
            "source": [
                "SELECT\r\n",
                "    Survived,\r\n",
                "    Sex,\r\n",
                "    COUNT(Sex) count_sex,\r\n",
                "    AVG(Cast(Age as int)) avg_age\r\n",
                "FROM\r\n",
                "    Demo.dbo.Titanic\r\n",
                "WHERE Sex IS NOT NULL\r\n",
                "AND\r\n",
                "Survived is NOT NULL\r\n",
                "GROUP BY\r\n",
                "    Survived,\r\n",
                "    Sex\r\n",
                "ORDER BY SEX\r\n",
                ""
            ],
            "metadata": {
                "language": "sql",
                "azdata_cell_guid": "5bdb3dbd-7a98-4ea1-b973-5dc5ea6048cc"
            },
            "outputs": [
                {
                    "output_type": "display_data",
                    "data": {
                        "text/html": "Warning: Null value is eliminated by an aggregate or other SET operation."
                    },
                    "metadata": {}
                },
                {
                    "output_type": "display_data",
                    "data": {
                        "text/html": "(4 rows affected)"
                    },
                    "metadata": {}
                },
                {
                    "output_type": "display_data",
                    "data": {
                        "text/html": "Total execution time: 00:00:00.037"
                    },
                    "metadata": {}
                },
                {
                    "output_type": "execute_result",
                    "execution_count": 15,
                    "data": {
                        "application/vnd.dataresource+json": {
                            "schema": {
                                "fields": [
                                    {
                                        "name": "Survived"
                                    },
                                    {
                                        "name": "Sex"
                                    },
                                    {
                                        "name": "count_sex"
                                    },
                                    {
                                        "name": "avg_age"
                                    }
                                ]
                            },
                            "data": [
                                {
                                    "0": "0",
                                    "1": "female",
                                    "2": "81",
                                    "3": "25"
                                },
                                {
                                    "0": "1",
                                    "1": "female",
                                    "2": "233",
                                    "3": "28"
                                },
                                {
                                    "0": "0",
                                    "1": "male",
                                    "2": "468",
                                    "3": "31"
                                },
                                {
                                    "0": "1",
                                    "1": "male",
                                    "2": "109",
                                    "3": "27"
                                }
                            ]
                        },
                        "text/html": "<table><tr><th>Survived</th><th>Sex</th><th>count_sex</th><th>avg_age</th></tr><tr><td>0</td><td>female</td><td>81</td><td>25</td></tr><tr><td>1</td><td>female</td><td>233</td><td>28</td></tr><tr><td>0</td><td>male</td><td>468</td><td>31</td></tr><tr><td>1</td><td>male</td><td>109</td><td>27</td></tr></table>"
                    },
                    "metadata": {}
                }
            ],
            "execution_count": 15
        }
    ]
}